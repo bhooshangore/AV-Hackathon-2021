{
 "cells": [
  {
   "cell_type": "markdown",
   "metadata": {},
   "source": [
    "# Importing Data Processing Libraries"
   ]
  },
  {
   "cell_type": "code",
   "execution_count": 1,
   "metadata": {},
   "outputs": [],
   "source": [
    "import numpy as np # linear algebra\n",
    "import pandas as pd # data processing, CSV file I/O (e.g. pd.read_csv)\n",
    "\n",
    "import os\n",
    "for dirname, _, filenames in os.walk('/input'):\n",
    "    for filename in filenames:\n",
    "        print(os.path.join(dirname, filename))"
   ]
  },
  {
   "cell_type": "markdown",
   "metadata": {},
   "source": [
    "## Importing Plotting Libraries"
   ]
  },
  {
   "cell_type": "code",
   "execution_count": 2,
   "metadata": {},
   "outputs": [],
   "source": [
    "import matplotlib.pyplot as plt\n",
    "import seaborn as sns"
   ]
  },
  {
   "cell_type": "markdown",
   "metadata": {},
   "source": [
    "## Understanding the data and doing Feature Engineering using Pandas"
   ]
  },
  {
   "cell_type": "code",
   "execution_count": 3,
   "metadata": {},
   "outputs": [],
   "source": [
    "df = pd.read_csv('train_s3TEQDk.csv')\n",
    "dftest = pd.read_csv('test_mSzZ8RL.csv')"
   ]
  },
  {
   "cell_type": "code",
   "execution_count": 4,
   "metadata": {},
   "outputs": [
    {
     "data": {
      "text/html": [
       "<div>\n",
       "<style scoped>\n",
       "    .dataframe tbody tr th:only-of-type {\n",
       "        vertical-align: middle;\n",
       "    }\n",
       "\n",
       "    .dataframe tbody tr th {\n",
       "        vertical-align: top;\n",
       "    }\n",
       "\n",
       "    .dataframe thead th {\n",
       "        text-align: right;\n",
       "    }\n",
       "</style>\n",
       "<table border=\"1\" class=\"dataframe\">\n",
       "  <thead>\n",
       "    <tr style=\"text-align: right;\">\n",
       "      <th></th>\n",
       "      <th>ID</th>\n",
       "      <th>Gender</th>\n",
       "      <th>Age</th>\n",
       "      <th>Region_Code</th>\n",
       "      <th>Occupation</th>\n",
       "      <th>Channel_Code</th>\n",
       "      <th>Vintage</th>\n",
       "      <th>Credit_Product</th>\n",
       "      <th>Avg_Account_Balance</th>\n",
       "      <th>Is_Active</th>\n",
       "      <th>Is_Lead</th>\n",
       "    </tr>\n",
       "  </thead>\n",
       "  <tbody>\n",
       "    <tr>\n",
       "      <td>0</td>\n",
       "      <td>NNVBBKZB</td>\n",
       "      <td>Female</td>\n",
       "      <td>73</td>\n",
       "      <td>RG268</td>\n",
       "      <td>Other</td>\n",
       "      <td>X3</td>\n",
       "      <td>43</td>\n",
       "      <td>No</td>\n",
       "      <td>1045696</td>\n",
       "      <td>No</td>\n",
       "      <td>0</td>\n",
       "    </tr>\n",
       "    <tr>\n",
       "      <td>1</td>\n",
       "      <td>IDD62UNG</td>\n",
       "      <td>Female</td>\n",
       "      <td>30</td>\n",
       "      <td>RG277</td>\n",
       "      <td>Salaried</td>\n",
       "      <td>X1</td>\n",
       "      <td>32</td>\n",
       "      <td>No</td>\n",
       "      <td>581988</td>\n",
       "      <td>No</td>\n",
       "      <td>0</td>\n",
       "    </tr>\n",
       "    <tr>\n",
       "      <td>2</td>\n",
       "      <td>HD3DSEMC</td>\n",
       "      <td>Female</td>\n",
       "      <td>56</td>\n",
       "      <td>RG268</td>\n",
       "      <td>Self_Employed</td>\n",
       "      <td>X3</td>\n",
       "      <td>26</td>\n",
       "      <td>No</td>\n",
       "      <td>1484315</td>\n",
       "      <td>Yes</td>\n",
       "      <td>0</td>\n",
       "    </tr>\n",
       "    <tr>\n",
       "      <td>3</td>\n",
       "      <td>BF3NC7KV</td>\n",
       "      <td>Male</td>\n",
       "      <td>34</td>\n",
       "      <td>RG270</td>\n",
       "      <td>Salaried</td>\n",
       "      <td>X1</td>\n",
       "      <td>19</td>\n",
       "      <td>No</td>\n",
       "      <td>470454</td>\n",
       "      <td>No</td>\n",
       "      <td>0</td>\n",
       "    </tr>\n",
       "    <tr>\n",
       "      <td>4</td>\n",
       "      <td>TEASRWXV</td>\n",
       "      <td>Female</td>\n",
       "      <td>30</td>\n",
       "      <td>RG282</td>\n",
       "      <td>Salaried</td>\n",
       "      <td>X1</td>\n",
       "      <td>33</td>\n",
       "      <td>No</td>\n",
       "      <td>886787</td>\n",
       "      <td>No</td>\n",
       "      <td>0</td>\n",
       "    </tr>\n",
       "  </tbody>\n",
       "</table>\n",
       "</div>"
      ],
      "text/plain": [
       "         ID  Gender  Age Region_Code     Occupation Channel_Code  Vintage  \\\n",
       "0  NNVBBKZB  Female   73       RG268          Other           X3       43   \n",
       "1  IDD62UNG  Female   30       RG277       Salaried           X1       32   \n",
       "2  HD3DSEMC  Female   56       RG268  Self_Employed           X3       26   \n",
       "3  BF3NC7KV    Male   34       RG270       Salaried           X1       19   \n",
       "4  TEASRWXV  Female   30       RG282       Salaried           X1       33   \n",
       "\n",
       "  Credit_Product  Avg_Account_Balance Is_Active  Is_Lead  \n",
       "0             No              1045696        No        0  \n",
       "1             No               581988        No        0  \n",
       "2             No              1484315       Yes        0  \n",
       "3             No               470454        No        0  \n",
       "4             No               886787        No        0  "
      ]
     },
     "execution_count": 4,
     "metadata": {},
     "output_type": "execute_result"
    }
   ],
   "source": [
    "df.head() # to take a quick look dataframe"
   ]
  },
  {
   "cell_type": "code",
   "execution_count": 5,
   "metadata": {},
   "outputs": [
    {
     "data": {
      "text/plain": [
       "ID                     object\n",
       "Gender                 object\n",
       "Age                     int64\n",
       "Region_Code            object\n",
       "Occupation             object\n",
       "Channel_Code           object\n",
       "Vintage                 int64\n",
       "Credit_Product         object\n",
       "Avg_Account_Balance     int64\n",
       "Is_Active              object\n",
       "Is_Lead                 int64\n",
       "dtype: object"
      ]
     },
     "execution_count": 5,
     "metadata": {},
     "output_type": "execute_result"
    }
   ],
   "source": [
    "df.dtypes # checking dtypes of the dataframe"
   ]
  },
  {
   "cell_type": "code",
   "execution_count": 6,
   "metadata": {},
   "outputs": [
    {
     "data": {
      "text/plain": [
       "(245725, 11)"
      ]
     },
     "execution_count": 6,
     "metadata": {},
     "output_type": "execute_result"
    }
   ],
   "source": [
    "df.shape # checking shape of the dataframe"
   ]
  },
  {
   "cell_type": "code",
   "execution_count": 7,
   "metadata": {},
   "outputs": [
    {
     "data": {
      "text/plain": [
       "ID                         0\n",
       "Gender                     0\n",
       "Age                        0\n",
       "Region_Code                0\n",
       "Occupation                 0\n",
       "Channel_Code               0\n",
       "Vintage                    0\n",
       "Credit_Product         29325\n",
       "Avg_Account_Balance        0\n",
       "Is_Active                  0\n",
       "Is_Lead                    0\n",
       "dtype: int64"
      ]
     },
     "execution_count": 7,
     "metadata": {},
     "output_type": "execute_result"
    }
   ],
   "source": [
    "df.isnull().sum() # checking null values in the dataframe"
   ]
  },
  {
   "cell_type": "code",
   "execution_count": 8,
   "metadata": {},
   "outputs": [
    {
     "data": {
      "text/plain": [
       "ID                     245725\n",
       "Gender                      2\n",
       "Age                        63\n",
       "Region_Code                35\n",
       "Occupation                  4\n",
       "Channel_Code                4\n",
       "Vintage                    66\n",
       "Credit_Product              2\n",
       "Avg_Account_Balance    135292\n",
       "Is_Active                   2\n",
       "Is_Lead                     2\n",
       "dtype: int64"
      ]
     },
     "execution_count": 8,
     "metadata": {},
     "output_type": "execute_result"
    }
   ],
   "source": [
    "df.nunique() # checking unique values in the dataframe"
   ]
  },
  {
   "cell_type": "markdown",
   "metadata": {},
   "source": [
    "### Function to impute most occurred category and add importance variable for Credit Product feature"
   ]
  },
  {
   "cell_type": "code",
   "execution_count": 4,
   "metadata": {},
   "outputs": [
    {
     "data": {
      "text/html": [
       "<div>\n",
       "<style scoped>\n",
       "    .dataframe tbody tr th:only-of-type {\n",
       "        vertical-align: middle;\n",
       "    }\n",
       "\n",
       "    .dataframe tbody tr th {\n",
       "        vertical-align: top;\n",
       "    }\n",
       "\n",
       "    .dataframe thead th {\n",
       "        text-align: right;\n",
       "    }\n",
       "</style>\n",
       "<table border=\"1\" class=\"dataframe\">\n",
       "  <thead>\n",
       "    <tr style=\"text-align: right;\">\n",
       "      <th></th>\n",
       "      <th>Credit_Product</th>\n",
       "      <th>Credit_Product_Imputed</th>\n",
       "    </tr>\n",
       "  </thead>\n",
       "  <tbody>\n",
       "    <tr>\n",
       "      <td>0</td>\n",
       "      <td>No</td>\n",
       "      <td>0</td>\n",
       "    </tr>\n",
       "    <tr>\n",
       "      <td>1</td>\n",
       "      <td>No</td>\n",
       "      <td>0</td>\n",
       "    </tr>\n",
       "    <tr>\n",
       "      <td>2</td>\n",
       "      <td>No</td>\n",
       "      <td>0</td>\n",
       "    </tr>\n",
       "    <tr>\n",
       "      <td>3</td>\n",
       "      <td>No</td>\n",
       "      <td>0</td>\n",
       "    </tr>\n",
       "    <tr>\n",
       "      <td>4</td>\n",
       "      <td>No</td>\n",
       "      <td>0</td>\n",
       "    </tr>\n",
       "    <tr>\n",
       "      <td>5</td>\n",
       "      <td>No</td>\n",
       "      <td>0</td>\n",
       "    </tr>\n",
       "    <tr>\n",
       "      <td>6</td>\n",
       "      <td>No</td>\n",
       "      <td>1</td>\n",
       "    </tr>\n",
       "    <tr>\n",
       "      <td>7</td>\n",
       "      <td>No</td>\n",
       "      <td>0</td>\n",
       "    </tr>\n",
       "    <tr>\n",
       "      <td>8</td>\n",
       "      <td>No</td>\n",
       "      <td>0</td>\n",
       "    </tr>\n",
       "    <tr>\n",
       "      <td>9</td>\n",
       "      <td>Yes</td>\n",
       "      <td>0</td>\n",
       "    </tr>\n",
       "  </tbody>\n",
       "</table>\n",
       "</div>"
      ],
      "text/plain": [
       "  Credit_Product  Credit_Product_Imputed\n",
       "0             No                       0\n",
       "1             No                       0\n",
       "2             No                       0\n",
       "3             No                       0\n",
       "4             No                       0\n",
       "5             No                       0\n",
       "6             No                       1\n",
       "7             No                       0\n",
       "8             No                       0\n",
       "9            Yes                       0"
      ]
     },
     "execution_count": 4,
     "metadata": {},
     "output_type": "execute_result"
    }
   ],
   "source": [
    "#1. Function to replace NAN values with mode value\n",
    "def impute_nan_add_variable(DataFrame,ColName):\n",
    "    # add new column and replace if category is null then 1 else 0\n",
    "    DataFrame[ColName+\"_Imputed\"] = np.where(DataFrame[ColName].isnull(),1,0)\n",
    "    #Take most occurred category\n",
    "    Mode_Cat = DataFrame[ColName].mode()[0]\n",
    "    #Replace NAN values with most occurred category\n",
    "    DataFrame[ColName].fillna(Mode_Cat,inplace=True)\n",
    "\n",
    "#Call function to impute and add var\n",
    "for Columns in ['Credit_Product']:\n",
    "       impute_nan_add_variable(df,Columns)\n",
    "        \n",
    "for Columns in ['Credit_Product']:\n",
    "       impute_nan_add_variable(dftest,Columns)\n",
    "\n",
    "\n",
    "#Display Top 10 Rows to see Result\n",
    "df[['Credit_Product','Credit_Product_Imputed']].head(10)"
   ]
  },
  {
   "cell_type": "code",
   "execution_count": 10,
   "metadata": {},
   "outputs": [
    {
     "data": {
      "text/plain": [
       "(245725, 12)"
      ]
     },
     "execution_count": 10,
     "metadata": {},
     "output_type": "execute_result"
    }
   ],
   "source": [
    "df.shape # checking numbers of column for making Correlation Matrix"
   ]
  },
  {
   "cell_type": "markdown",
   "metadata": {},
   "source": [
    "# Visualizing Correlation Matrix of all features"
   ]
  },
  {
   "cell_type": "code",
   "execution_count": 11,
   "metadata": {},
   "outputs": [
    {
     "data": {
      "image/png": "[encoded data removed]",
      "text/plain": [
       "<Figure size 1080x1080 with 2 Axes>"
      ]
     },
     "metadata": {
      "needs_background": "light"
     },
     "output_type": "display_data"
    }
   ],
   "source": [
    "cols = list(range(12))  # list of all features\n",
    "fig, ax = plt.subplots(figsize=(15,15)) # defining the size and shape of the plot\n",
    "corelation = df.iloc[:,cols].corr() \n",
    "sns.heatmap(corelation, xticklabels = corelation.columns, yticklabels = corelation.columns, annot = True)\n",
    "plt.savefig('Correlation matrix range all.png') # saving the plot"
   ]
  },
  {
   "cell_type": "code",
   "execution_count": 12,
   "metadata": {},
   "outputs": [],
   "source": [
    "##We can see that there is a strong positive relationship between (Vintage,Age) and (Credit_product_imputed,is_lead)\n",
    "##Hence Dropping Age seems logical thing to do (edit: tested with Age too, without age giving better results)"
   ]
  },
  {
   "cell_type": "code",
   "execution_count": 13,
   "metadata": {},
   "outputs": [
    {
     "data": {
      "text/plain": [
       "0    187437\n",
       "1     58288\n",
       "Name: Is_Lead, dtype: int64"
      ]
     },
     "execution_count": 13,
     "metadata": {},
     "output_type": "execute_result"
    }
   ],
   "source": [
    "df.Is_Lead.value_counts()"
   ]
  },
  {
   "cell_type": "code",
   "execution_count": 14,
   "metadata": {},
   "outputs": [
    {
     "data": {
      "image/png": "[encoded data removed]",
      "text/plain": [
       "<Figure size 720x720 with 1 Axes>"
      ]
     },
     "metadata": {
      "needs_background": "light"
     },
     "output_type": "display_data"
    }
   ],
   "source": [
    "df.Is_Lead.value_counts().plot(kind='bar', figsize = (10,10), title = 'Bar Graph of 0 and 1 in Is_Lead column')\n",
    "plt.xlabel = ('CC interested status')\n",
    "plt.ylabel = ('No. of Leads')"
   ]
  },
  {
   "cell_type": "code",
   "execution_count": 15,
   "metadata": {},
   "outputs": [],
   "source": [
    "#Now we clearly see that this data is imbalanced"
   ]
  },
  {
   "cell_type": "markdown",
   "metadata": {},
   "source": [
    "## Splitting the Features and Target Variables"
   ]
  },
  {
   "cell_type": "code",
   "execution_count": 5,
   "metadata": {},
   "outputs": [],
   "source": [
    "#Encoding Input Categorical values to Ordinal or Integer\n",
    "Gender_dict = {'Female':1, 'Male':2}\n",
    "df['Gender_Ordinal'] = df.Gender.map(Gender_dict)\n",
    "df = df.drop(['Gender'],axis=1)\n",
    "\n",
    "Credit_Product_dict = {'No':3,'Yes':4}\n",
    "df['Credit_Product_Ordinal'] = df.Credit_Product.map(Credit_Product_dict)\n",
    "df = df.drop(['Credit_Product'],axis=1)\n",
    "\n",
    "Is_Active_dict = {'No':3,'Yes':4}\n",
    "df['Is_Active_Ordinal'] = df.Is_Active.map(Is_Active_dict)\n",
    "df = df.drop(['Is_Active'],axis=1)\n",
    "\n",
    "Occupation_dict = {'Entrepreneur':5,'Salaried':6,'Self_Employed':7,'Other':8}\n",
    "df['Occupation_Ordinal'] = df.Occupation.map(Occupation_dict)\n",
    "df = df.drop(['Occupation'],axis=1)\n",
    "\n",
    "df['Channel_Code'] = df['Channel_Code'].str.replace(r'X', '')\n",
    "df['Channel_Code'] = df['Channel_Code'].astype(str).astype(int)\n",
    "df['Region_Code'] = df['Region_Code'].str.replace(r'RG', '')\n",
    "df['Region_Code'] = df['Region_Code'].astype(str).astype(int)"
   ]
  },
  {
   "cell_type": "code",
   "execution_count": 6,
   "metadata": {},
   "outputs": [],
   "source": [
    "#Encoding Test Data Set Similar as Above\n",
    "Gender_dict = {'Female':1, 'Male':2}\n",
    "dftest['Gender_Ordinal'] = dftest.Gender.map(Gender_dict)\n",
    "dftest = dftest.drop(['Gender'],axis=1)\n",
    "\n",
    "Credit_Product_dict = {'No':3,'Yes':4}\n",
    "dftest['Credit_Product_Ordinal'] = dftest.Credit_Product.map(Credit_Product_dict)\n",
    "dftest = dftest.drop(['Credit_Product'],axis=1)\n",
    "\n",
    "Is_Active_dict = {'No':3,'Yes':4}\n",
    "dftest['Is_Active_Ordinal'] = dftest.Is_Active.map(Is_Active_dict)\n",
    "dftest = dftest.drop(['Is_Active'],axis=1)\n",
    "\n",
    "Occupation_dict = {'Entrepreneur':5,'Salaried':6,'Self_Employed':7,'Other':8}\n",
    "dftest['Occupation_Ordinal'] = dftest.Occupation.map(Occupation_dict)\n",
    "dftest = dftest.drop(['Occupation'],axis=1)\n",
    "\n",
    "dftest['Channel_Code'] = dftest['Channel_Code'].str.replace(r'X', '')\n",
    "dftest['Channel_Code'] = dftest['Channel_Code'].astype(str).astype(int)\n",
    "dftest['Region_Code'] = dftest['Region_Code'].str.replace(r'RG', '')\n",
    "dftest['Region_Code'] = dftest['Region_Code'].astype(str).astype(int)"
   ]
  },
  {
   "cell_type": "code",
   "execution_count": 18,
   "metadata": {},
   "outputs": [
    {
     "data": {
      "text/plain": [
       "ID                        object\n",
       "Age                        int64\n",
       "Region_Code                int32\n",
       "Channel_Code               int32\n",
       "Vintage                    int64\n",
       "Avg_Account_Balance        int64\n",
       "Is_Lead                    int64\n",
       "Credit_Product_Imputed     int32\n",
       "Gender_Ordinal             int64\n",
       "Credit_Product_Ordinal     int64\n",
       "Is_Active_Ordinal          int64\n",
       "Occupation_Ordinal         int64\n",
       "dtype: object"
      ]
     },
     "execution_count": 18,
     "metadata": {},
     "output_type": "execute_result"
    }
   ],
   "source": [
    "df.dtypes #To check dtypes all being converted to Integers"
   ]
  },
  {
   "cell_type": "code",
   "execution_count": 8,
   "metadata": {},
   "outputs": [
    {
     "name": "stderr",
     "output_type": "stream",
     "text": [
      "C:\\Users\\bhoos\\Miniconda3\\envs\\mlbook\\lib\\site-packages\\sklearn\\preprocessing\\label.py:219: DataConversionWarning: A column-vector y was passed when a 1d array was expected. Please change the shape of y to (n_samples, ), for example using ravel().\n",
      "  y = column_or_1d(y, warn=True)\n",
      "C:\\Users\\bhoos\\Miniconda3\\envs\\mlbook\\lib\\site-packages\\sklearn\\preprocessing\\label.py:252: DataConversionWarning: A column-vector y was passed when a 1d array was expected. Please change the shape of y to (n_samples, ), for example using ravel().\n",
      "  y = column_or_1d(y, warn=True)\n"
     ]
    }
   ],
   "source": [
    "#Removing ID \n",
    "df = df.drop(['ID'],axis=1)\n",
    "\n",
    "X = df.iloc[:, df.columns != 'Is_Lead'].values # Selecting All columns except Is_Lead column \n",
    "y = df.iloc[:, df.columns == 'Is_Lead'].values # Selecting Only Is_Lead column\n",
    "\n",
    "from sklearn.preprocessing import LabelEncoder\n",
    "\n",
    "# encode string output values as integers\n",
    "label_encoder = LabelEncoder()\n",
    "label_encoder = label_encoder.fit(y)\n",
    "label_encoded_y = label_encoder.transform(y)\n",
    "\n",
    "\n",
    "#X_resampled, y_resampled = SMOTE().fit_sample(X, y)"
   ]
  },
  {
   "cell_type": "code",
   "execution_count": 20,
   "metadata": {},
   "outputs": [
    {
     "data": {
      "text/plain": [
       "(245725, 10)"
      ]
     },
     "execution_count": 20,
     "metadata": {},
     "output_type": "execute_result"
    }
   ],
   "source": [
    "X.shape"
   ]
  },
  {
   "cell_type": "code",
   "execution_count": 21,
   "metadata": {},
   "outputs": [
    {
     "data": {
      "text/plain": [
       "(245725, 1)"
      ]
     },
     "execution_count": 21,
     "metadata": {},
     "output_type": "execute_result"
    }
   ],
   "source": [
    "y.shape"
   ]
  },
  {
   "cell_type": "markdown",
   "metadata": {},
   "source": [
    "## Train-Test Split"
   ]
  },
  {
   "cell_type": "code",
   "execution_count": 20,
   "metadata": {},
   "outputs": [],
   "source": [
    "from sklearn.model_selection import train_test_split\n",
    "X_train, X_test, y_train, y_test = train_test_split(X,y, test_size = 0.2, random_state = 38)"
   ]
  },
  {
   "cell_type": "code",
   "execution_count": 21,
   "metadata": {},
   "outputs": [
    {
     "data": {
      "text/plain": [
       "(196580, 10)"
      ]
     },
     "execution_count": 21,
     "metadata": {},
     "output_type": "execute_result"
    }
   ],
   "source": [
    "X_train = np.asmatrix(X_train) #Converting to np.ndarray to fix a bug\n",
    "X_train.shape # shape of X_train"
   ]
  },
  {
   "cell_type": "code",
   "execution_count": 22,
   "metadata": {},
   "outputs": [
    {
     "data": {
      "text/plain": [
       "(49145, 10)"
      ]
     },
     "execution_count": 22,
     "metadata": {},
     "output_type": "execute_result"
    }
   ],
   "source": [
    "X_test = np.asmatrix(X_test) #Converting to np.ndarray to fix a bug\n",
    "X_test.shape # shape of X_test"
   ]
  },
  {
   "cell_type": "code",
   "execution_count": 23,
   "metadata": {},
   "outputs": [
    {
     "data": {
      "text/plain": [
       "(196580,)"
      ]
     },
     "execution_count": 23,
     "metadata": {},
     "output_type": "execute_result"
    }
   ],
   "source": [
    "#y_train = np.asmatrix(y_train)\n",
    "y_train.shape # shape of y_train"
   ]
  },
  {
   "cell_type": "code",
   "execution_count": 24,
   "metadata": {},
   "outputs": [
    {
     "data": {
      "text/plain": [
       "(49145,)"
      ]
     },
     "execution_count": 24,
     "metadata": {},
     "output_type": "execute_result"
    }
   ],
   "source": [
    "y_test.shape"
   ]
  },
  {
   "cell_type": "markdown",
   "metadata": {},
   "source": [
    "# Default Xgboost Classifier Model"
   ]
  },
  {
   "cell_type": "code",
   "execution_count": 11,
   "metadata": {},
   "outputs": [],
   "source": [
    "# for tracking time\n",
    "def timer(start_time=None):\n",
    "    if not start_time:\n",
    "        start_time = datetime.now()\n",
    "        return start_time\n",
    "    elif start_time:\n",
    "        thour, temp_sec = divmod((datetime.now() - start_time).total_seconds(), 3600)\n",
    "        tmin, tsec = divmod(temp_sec, 60)\n",
    "        print('\\n Time taken: %i hours %i minutes and %s seconds.' % (thour, tmin, round(tsec, 2)))"
   ]
  },
  {
   "cell_type": "code",
   "execution_count": 28,
   "metadata": {},
   "outputs": [
    {
     "name": "stdout",
     "output_type": "stream",
     "text": [
      "\n",
      " Time taken: 0 hours 0 minutes and 12.4 seconds.\n"
     ]
    }
   ],
   "source": [
    "# Xgboost model\n",
    "from xgboost import XGBClassifier\n",
    "classifier = XGBClassifier()\n",
    "\n",
    "from datetime import datetime\n",
    "\n",
    "start_time = timer(None) # timing starts from this point for \"start_time\" variable\n",
    "classifier.fit(X_train, y_train)\n",
    "timer(start_time) # timing ends here for \"start_time\" variable"
   ]
  },
  {
   "cell_type": "markdown",
   "metadata": {},
   "source": [
    "## X_test prediction on default hyperparameters"
   ]
  },
  {
   "cell_type": "code",
   "execution_count": 29,
   "metadata": {},
   "outputs": [
    {
     "name": "stdout",
     "output_type": "stream",
     "text": [
      "[[36106  1410]\n",
      " [ 5439  6190]]\n"
     ]
    },
    {
     "data": {
      "text/plain": [
       "0.8606368908332486"
      ]
     },
     "execution_count": 29,
     "metadata": {},
     "output_type": "execute_result"
    }
   ],
   "source": [
    "from sklearn.metrics import confusion_matrix, accuracy_score, f1_score, classification_report\n",
    "y_pred = classifier.predict(X_test)\n",
    "cm = confusion_matrix(y_test, y_pred)\n",
    "print(cm)\n",
    "accuracy_score(y_test, y_pred)"
   ]
  },
  {
   "cell_type": "code",
   "execution_count": 30,
   "metadata": {},
   "outputs": [
    {
     "name": "stdout",
     "output_type": "stream",
     "text": [
      "              precision    recall  f1-score   support\n",
      "\n",
      "           0       0.87      0.96      0.91     37516\n",
      "           1       0.81      0.53      0.64     11629\n",
      "\n",
      "    accuracy                           0.86     49145\n",
      "   macro avg       0.84      0.75      0.78     49145\n",
      "weighted avg       0.86      0.86      0.85     49145\n",
      "\n"
     ]
    }
   ],
   "source": [
    "print(classification_report(y_test,y_pred))"
   ]
  },
  {
   "cell_type": "markdown",
   "metadata": {},
   "source": [
    "## X set Prediction on default hyperparameters"
   ]
  },
  {
   "cell_type": "code",
   "execution_count": 31,
   "metadata": {},
   "outputs": [
    {
     "name": "stdout",
     "output_type": "stream",
     "text": [
      "[[180247   7190]\n",
      " [ 27123  31165]]\n"
     ]
    },
    {
     "data": {
      "text/plain": [
       "0.8603601587140096"
      ]
     },
     "execution_count": 31,
     "metadata": {},
     "output_type": "execute_result"
    }
   ],
   "source": [
    "y_pred = classifier.predict(X)\n",
    "cm = confusion_matrix(y, y_pred)\n",
    "print(cm)\n",
    "accuracy_score(y, y_pred)"
   ]
  },
  {
   "cell_type": "code",
   "execution_count": 32,
   "metadata": {},
   "outputs": [
    {
     "name": "stdout",
     "output_type": "stream",
     "text": [
      "              precision    recall  f1-score   support\n",
      "\n",
      "           0       0.87      0.96      0.91    187437\n",
      "           1       0.81      0.53      0.64     58288\n",
      "\n",
      "    accuracy                           0.86    245725\n",
      "   macro avg       0.84      0.75      0.78    245725\n",
      "weighted avg       0.86      0.86      0.85    245725\n",
      "\n"
     ]
    }
   ],
   "source": [
    "print(classification_report(y,y_pred))"
   ]
  },
  {
   "cell_type": "markdown",
   "metadata": {},
   "source": [
    "## HyperParameters tuning with Gridsearch CV"
   ]
  },
  {
   "cell_type": "code",
   "execution_count": 33,
   "metadata": {},
   "outputs": [],
   "source": [
    "from sklearn.model_selection import GridSearchCV"
   ]
  },
  {
   "cell_type": "code",
   "execution_count": 34,
   "metadata": {},
   "outputs": [],
   "source": [
    "params={\n",
    " \"learning_rate\"    : [0.05,0.1, 0.3,0.35] ,\n",
    " \"max_depth\"        : [ 12, 15]   \n",
    "}"
   ]
  },
  {
   "cell_type": "code",
   "execution_count": 35,
   "metadata": {},
   "outputs": [],
   "source": [
    "grid_search= GridSearchCV(estimator = classifier,param_grid=params,scoring='f1',n_jobs=-1,cv=5)"
   ]
  },
  {
   "cell_type": "code",
   "execution_count": 36,
   "metadata": {},
   "outputs": [
    {
     "name": "stdout",
     "output_type": "stream",
     "text": [
      "\n",
      " Time taken: 0 hours 8 minutes and 51.92 seconds.\n"
     ]
    }
   ],
   "source": [
    "start_time = timer(None) # timing starts from this point for \"start_time\" variable\n",
    "grid_search.fit(X_train,y_train.ravel())\n",
    "timer(start_time) # timing ends here for \"start_time\" variable"
   ]
  },
  {
   "cell_type": "code",
   "execution_count": 37,
   "metadata": {},
   "outputs": [
    {
     "data": {
      "text/plain": [
       "XGBClassifier(base_score=0.5, booster='gbtree', colsample_bylevel=1,\n",
       "              colsample_bytree=1, gamma=0, learning_rate=0.05, max_delta_step=0,\n",
       "              max_depth=15, min_child_weight=1, missing=None, n_estimators=100,\n",
       "              n_jobs=1, nthread=None, objective='binary:logistic',\n",
       "              random_state=0, reg_alpha=0, reg_lambda=1, scale_pos_weight=1,\n",
       "              seed=None, silent=True, subsample=1)"
      ]
     },
     "execution_count": 37,
     "metadata": {},
     "output_type": "execute_result"
    }
   ],
   "source": [
    "grid_search.best_estimator_"
   ]
  },
  {
   "cell_type": "code",
   "execution_count": 38,
   "metadata": {},
   "outputs": [
    {
     "data": {
      "text/plain": [
       "0.6526072665904078"
      ]
     },
     "execution_count": 38,
     "metadata": {},
     "output_type": "execute_result"
    }
   ],
   "source": [
    "accuracy = grid_search.best_score_\n",
    "accuracy"
   ]
  },
  {
   "cell_type": "code",
   "execution_count": 39,
   "metadata": {},
   "outputs": [],
   "source": [
    "#grid_tuned_classifier = XGBClassifier(base_score=0.5, booster='gbtree', colsample_bylevel=1,\n",
    "#       colsample_bytree=1, gamma=0, learning_rate=0.1, max_delta_step=0,\n",
    "#       max_depth=12, min_child_weight=1, missing=None, n_estimators=100,\n",
    "#       n_jobs=1, nthread=None, objective='binary:logistic', random_state=0,\n",
    "#       reg_alpha=0, reg_lambda=1, scale_pos_weight=1, seed=None,\n",
    "#       silent=True, subsample=1)\n",
    "\n",
    "#Tuned Further\n",
    "grid_tuned_classifier = XGBClassifier(base_score=0.5, booster='gbtree', colsample_bylevel=1,\n",
    "              colsample_bytree=1, gamma=0, learning_rate=0.05, max_delta_step=0,\n",
    "              max_depth=15, min_child_weight=1, missing=None, n_estimators=100,\n",
    "              n_jobs=1, nthread=None, objective='binary:logistic',\n",
    "              random_state=0, reg_alpha=0, reg_lambda=1, scale_pos_weight=1,\n",
    "              seed=None, silent=True, subsample=1)"
   ]
  },
  {
   "cell_type": "code",
   "execution_count": 40,
   "metadata": {},
   "outputs": [
    {
     "name": "stdout",
     "output_type": "stream",
     "text": [
      "[[35535  1981]\n",
      " [ 5083  6546]]\n",
      "Accuracy on X_test set  0.8562620815952793\n"
     ]
    }
   ],
   "source": [
    "grid_tuned_classifier.fit(X_train, y_train.ravel())\n",
    "y_pred = grid_tuned_classifier.predict(X_test)\n",
    "cm = confusion_matrix(y_test, y_pred)\n",
    "print(cm)\n",
    "print('Accuracy on X_test set ',accuracy_score(y_test, y_pred))"
   ]
  },
  {
   "cell_type": "code",
   "execution_count": 41,
   "metadata": {},
   "outputs": [
    {
     "name": "stdout",
     "output_type": "stream",
     "text": [
      "Classification report on X_test set\n",
      "               precision    recall  f1-score   support\n",
      "\n",
      "           0       0.87      0.95      0.91     37516\n",
      "           1       0.77      0.56      0.65     11629\n",
      "\n",
      "    accuracy                           0.86     49145\n",
      "   macro avg       0.82      0.76      0.78     49145\n",
      "weighted avg       0.85      0.86      0.85     49145\n",
      "\n"
     ]
    }
   ],
   "source": [
    "print('Classification report on X_test set\\n',classification_report(y_test,y_pred))"
   ]
  },
  {
   "cell_type": "code",
   "execution_count": 42,
   "metadata": {},
   "outputs": [
    {
     "name": "stdout",
     "output_type": "stream",
     "text": [
      "[[181584   5853]\n",
      " [ 19969  38319]]\n",
      "Accuracy on whole X set  0.8949150473089836\n"
     ]
    }
   ],
   "source": [
    "y_pred = grid_tuned_classifier.predict(X)\n",
    "cm = confusion_matrix(y, y_pred)\n",
    "print(cm)\n",
    "print('Accuracy on whole X set ',accuracy_score(y, y_pred))"
   ]
  },
  {
   "cell_type": "code",
   "execution_count": 43,
   "metadata": {},
   "outputs": [
    {
     "name": "stdout",
     "output_type": "stream",
     "text": [
      "Classification report on whole X set\n",
      "               precision    recall  f1-score   support\n",
      "\n",
      "           0       0.90      0.97      0.93    187437\n",
      "           1       0.87      0.66      0.75     58288\n",
      "\n",
      "    accuracy                           0.89    245725\n",
      "   macro avg       0.88      0.81      0.84    245725\n",
      "weighted avg       0.89      0.89      0.89    245725\n",
      "\n"
     ]
    }
   ],
   "source": [
    "print('Classification report on whole X set\\n',classification_report(y,y_pred))"
   ]
  },
  {
   "cell_type": "markdown",
   "metadata": {},
   "source": [
    "## Hyperparameter Tuning with RandomizedSearchCV"
   ]
  },
  {
   "cell_type": "code",
   "execution_count": 26,
   "metadata": {},
   "outputs": [],
   "source": [
    "from sklearn.model_selection import RandomizedSearchCV"
   ]
  },
  {
   "cell_type": "code",
   "execution_count": 45,
   "metadata": {},
   "outputs": [],
   "source": [
    "params={\n",
    " \"learning_rate\"    : [0.05, 0.1, 0.2, 0.3, 1 ] ,\n",
    " \"max_depth\"        : [10, 12, 15],\n",
    " \"min_child_weight\" : [ 1, 3 ],\n",
    " \"gamma\"            : [ 0.0, 0.15, 0.3]\n",
    "    \n",
    "}"
   ]
  },
  {
   "cell_type": "code",
   "execution_count": 70,
   "metadata": {},
   "outputs": [],
   "source": [
    "random_search= RandomizedSearchCV(estimator = classifier,param_distributions=params,n_iter=20,scoring='f1',n_jobs=-1,cv=5)"
   ]
  },
  {
   "cell_type": "code",
   "execution_count": 79,
   "metadata": {},
   "outputs": [
    {
     "name": "stdout",
     "output_type": "stream",
     "text": [
      "\n",
      " Time taken: 0 hours 23 minutes and 28.65 seconds.\n"
     ]
    }
   ],
   "source": [
    "start_time = timer(None) # timing starts from this point for \"start_time\" variable\n",
    "#random_search.fit(X_train,y_train.ravel())\n",
    "random_search.fit(X,y.ravel())\n",
    "timer(start_time) # timing ends here for \"start_time\" variable"
   ]
  },
  {
   "cell_type": "code",
   "execution_count": 80,
   "metadata": {},
   "outputs": [
    {
     "data": {
      "text/plain": [
       "XGBClassifier(base_score=0.5, booster='gbtree', colsample_bylevel=1,\n",
       "              colsample_bytree=1, gamma=0.3, learning_rate=0.2,\n",
       "              max_delta_step=0, max_depth=10, min_child_weight=3, missing=None,\n",
       "              n_estimators=100, n_jobs=1, nthread=None,\n",
       "              objective='binary:logistic', random_state=0, reg_alpha=0,\n",
       "              reg_lambda=1, scale_pos_weight=1, seed=None, silent=True,\n",
       "              subsample=1)"
      ]
     },
     "execution_count": 80,
     "metadata": {},
     "output_type": "execute_result"
    }
   ],
   "source": [
    "random_search.best_estimator_"
   ]
  },
  {
   "cell_type": "code",
   "execution_count": 49,
   "metadata": {},
   "outputs": [
    {
     "data": {
      "text/plain": [
       "{'min_child_weight': 1, 'max_depth': 10, 'learning_rate': 0.2, 'gamma': 0.3}"
      ]
     },
     "execution_count": 49,
     "metadata": {},
     "output_type": "execute_result"
    }
   ],
   "source": [
    "random_search.best_params_"
   ]
  },
  {
   "cell_type": "code",
   "execution_count": 27,
   "metadata": {},
   "outputs": [],
   "source": [
    "#random_tuned_classifier = XGBClassifier (base_score=0.5, booster='gbtree', colsample_bylevel=1,\n",
    "#       colsample_bytree=1, gamma=0.15, learning_rate=0.1, max_delta_step=0,\n",
    "#       max_depth=12, min_child_weight=3, missing=None, n_estimators=100,\n",
    "#       n_jobs=1, nthread=None, objective='binary:logistic', random_state=0,\n",
    "#       reg_alpha=0, reg_lambda=1, scale_pos_weight=1, seed=None,\n",
    "#       silent=True, subsample=1)\n",
    "\n",
    "#Tuned 2nd  time  \n",
    "#random_tuned_classifier = XGBClassifier (base_score=0.5, booster='gbtree', colsample_bylevel=1,\n",
    "#       colsample_bytree=1, gamma=0.3, learning_rate=0.05, max_delta_step=0,\n",
    "#       max_depth=12, min_child_weight=3, missing=None, n_estimators=100,\n",
    "#       n_jobs=1, nthread=None, objective='binary:logistic', random_state=0,\n",
    "#       reg_alpha=0, reg_lambda=1, scale_pos_weight=1, seed=None,\n",
    "#       silent=True, subsample=1)    \n",
    "\n",
    "#Tuned 3rd  time  \n",
    "#random_tuned_classifier = XGBClassifier (base_score=0.5, booster='gbtree', colsample_bylevel=1,\n",
    "#       colsample_bytree=1, gamma=0.3, learning_rate=0.3, max_delta_step=0,\n",
    "#       max_depth=10, min_child_weight=3, missing=None, n_estimators=100,\n",
    "#       n_jobs=1, nthread=None, objective='binary:logistic', random_state=0,\n",
    "#       reg_alpha=0, reg_lambda=1, scale_pos_weight=1, seed=None,\n",
    "#       silent=True, subsample=1)\n",
    "\n",
    "#Tuned Ek aur baar\n",
    "#random_tuned_classifier = XGBClassifier (base_score=0.5, booster='gbtree', colsample_bylevel=1,\n",
    "#              colsample_bytree=1, gamma=0.3, learning_rate=0.2,\n",
    "#              max_delta_step=0, max_depth=10, min_child_weight=1, missing=None,\n",
    "#              n_estimators=100, n_jobs=1, nthread=None,\n",
    "#              objective='binary:logistic', random_state=0, reg_alpha=0,\n",
    "#              reg_lambda=1, scale_pos_weight=1, seed=None, silent=True,\n",
    "#              subsample=1)\n",
    "\n",
    "#Playing Daft Punks 'OneMoreTime.. ' ****Best One****\n",
    "from xgboost import XGBClassifier\n",
    "classifier = XGBClassifier()\n",
    "random_tuned_classifier = XGBClassifier (base_score=0.5, booster='gbtree', colsample_bylevel=1,\n",
    "              colsample_bytree=1, gamma=0.15, learning_rate=0.2,\n",
    "              max_delta_step=0, max_depth=12, min_child_weight=3, missing=None,\n",
    "              n_estimators=100, n_jobs=1, nthread=None,\n",
    "              objective='binary:logistic', random_state=0, reg_alpha=0,\n",
    "              reg_lambda=1, scale_pos_weight=1, seed=None, silent=True,\n",
    "              subsample=1)\n",
    "\n",
    "#random_tuned_classifier = XGBClassifier(base_score=0.5, booster='gbtree', colsample_bylevel=1,\n",
    "#              colsample_bytree=1, gamma=0.3, learning_rate=0.2,\n",
    "#              max_delta_step=0, max_depth=10, min_child_weight=3, missing=None,\n",
    "#              n_estimators=100, n_jobs=1, nthread=None,\n",
    "#              objective='binary:logistic', random_state=0, reg_alpha=0,\n",
    "#              reg_lambda=1, scale_pos_weight=1, seed=None, silent=True,\n",
    "#              subsample=1)"
   ]
  },
  {
   "cell_type": "code",
   "execution_count": 74,
   "metadata": {},
   "outputs": [
    {
     "name": "stdout",
     "output_type": "stream",
     "text": [
      "[[35522  1994]\n",
      " [ 5091  6538]]\n",
      "Accuracy on X_test set  0.8558347746464544\n"
     ]
    }
   ],
   "source": [
    "#random_tuned_classifier.fit(X_train, y_train.ravel())\n",
    "#random_tuned_classifier.fit(X, y.ravel())\n",
    "y_pred = random_tuned_classifier.predict(X_test)\n",
    "cm = confusion_matrix(y_test, y_pred)\n",
    "print(cm)\n",
    "print('Accuracy on X_test set ',accuracy_score(y_test, y_pred))"
   ]
  },
  {
   "cell_type": "code",
   "execution_count": 75,
   "metadata": {},
   "outputs": [
    {
     "name": "stdout",
     "output_type": "stream",
     "text": [
      "Classification report of X_test set               precision    recall  f1-score   support\n",
      "\n",
      "           0       0.87      0.95      0.91     37516\n",
      "           1       0.77      0.56      0.65     11629\n",
      "\n",
      "    accuracy                           0.86     49145\n",
      "   macro avg       0.82      0.75      0.78     49145\n",
      "weighted avg       0.85      0.86      0.85     49145\n",
      "\n"
     ]
    }
   ],
   "source": [
    "print('Classification report of X_test set',classification_report(y_test,y_pred))"
   ]
  },
  {
   "cell_type": "code",
   "execution_count": 76,
   "metadata": {},
   "outputs": [],
   "source": [
    "#Whole X Set prediction"
   ]
  },
  {
   "cell_type": "code",
   "execution_count": 28,
   "metadata": {},
   "outputs": [
    {
     "name": "stdout",
     "output_type": "stream",
     "text": [
      "\n",
      " Time taken: 0 hours 0 minutes and 47.36 seconds.\n"
     ]
    }
   ],
   "source": [
    "start_time = timer(None) # timing starts from this point for \"start_time\" variable\n",
    "random_tuned_classifier.fit(X, y.ravel())\n",
    "timer(start_time) # timing ends here for \"start_time\" variable"
   ]
  },
  {
   "cell_type": "code",
   "execution_count": 84,
   "metadata": {},
   "outputs": [
    {
     "name": "stdout",
     "output_type": "stream",
     "text": [
      "[[180606   6831]\n",
      " [ 22933  35355]]\n",
      "Accuracy on whole X set 0.8788727235731\n"
     ]
    }
   ],
   "source": [
    "y_pred = random_tuned_classifier.predict(X)\n",
    "cm = confusion_matrix(y, y_pred)\n",
    "print(cm)\n",
    "print('Accuracy on whole X set',accuracy_score(y, y_pred))"
   ]
  },
  {
   "cell_type": "code",
   "execution_count": 78,
   "metadata": {},
   "outputs": [
    {
     "name": "stdout",
     "output_type": "stream",
     "text": [
      "Classification report on whole X set               precision    recall  f1-score   support\n",
      "\n",
      "           0       0.89      0.96      0.93    187437\n",
      "           1       0.85      0.63      0.72     58288\n",
      "\n",
      "    accuracy                           0.89    245725\n",
      "   macro avg       0.87      0.80      0.83    245725\n",
      "weighted avg       0.88      0.89      0.88    245725\n",
      "\n"
     ]
    }
   ],
   "source": [
    "print('Classification report on whole X set',classification_report(y,y_pred))"
   ]
  },
  {
   "cell_type": "code",
   "execution_count": 56,
   "metadata": {},
   "outputs": [],
   "source": [
    "#Saving the Model\n",
    "import pickle\n",
    "rtc = random_tuned_classifier\n",
    "pickle.dump(rtc,open('rtcmodel1','wb'))\n",
    "\n",
    "grid = grid_search\n",
    "pickle.dump(grid,open('gridmodel','wb'))"
   ]
  },
  {
   "cell_type": "markdown",
   "metadata": {},
   "source": [
    "## Using Test Data to Check Results on Randomized Tuning & Grid Search CV"
   ]
  },
  {
   "cell_type": "code",
   "execution_count": 58,
   "metadata": {},
   "outputs": [
    {
     "name": "stdout",
     "output_type": "stream",
     "text": [
      "\n",
      " Time taken: 0 hours 0 minutes and 53.95 seconds.\n"
     ]
    }
   ],
   "source": [
    "#Removing Age and ID features from the Dataset\n",
    "dftest1 = dftest.drop(['ID'],axis=1)\n",
    "dftest1 = np.asmatrix(dftest1)\n",
    "\n",
    "#Grid Tuned Classifier on test dataset provided\n",
    "start_time = timer(None) # timing strts here for \"start_time\" variable\n",
    "grid_tuned_classifier.fit(X_train, y_train.ravel())\n",
    "timer(start_time) # timing ends here for \"start_time\" variable\n",
    "y_pred1 = grid_tuned_classifier.predict_proba(dftest1)"
   ]
  },
  {
   "cell_type": "code",
   "execution_count": 62,
   "metadata": {},
   "outputs": [
    {
     "data": {
      "text/html": [
       "<div>\n",
       "<style scoped>\n",
       "    .dataframe tbody tr th:only-of-type {\n",
       "        vertical-align: middle;\n",
       "    }\n",
       "\n",
       "    .dataframe tbody tr th {\n",
       "        vertical-align: top;\n",
       "    }\n",
       "\n",
       "    .dataframe thead th {\n",
       "        text-align: right;\n",
       "    }\n",
       "</style>\n",
       "<table border=\"1\" class=\"dataframe\">\n",
       "  <thead>\n",
       "    <tr style=\"text-align: right;\">\n",
       "      <th></th>\n",
       "      <th>ynot_pred</th>\n",
       "      <th>Is_Lead</th>\n",
       "    </tr>\n",
       "  </thead>\n",
       "  <tbody>\n",
       "    <tr>\n",
       "      <td>0</td>\n",
       "      <td>0.982645</td>\n",
       "      <td>0.017355</td>\n",
       "    </tr>\n",
       "    <tr>\n",
       "      <td>1</td>\n",
       "      <td>0.092630</td>\n",
       "      <td>0.907370</td>\n",
       "    </tr>\n",
       "    <tr>\n",
       "      <td>2</td>\n",
       "      <td>0.950248</td>\n",
       "      <td>0.049752</td>\n",
       "    </tr>\n",
       "    <tr>\n",
       "      <td>3</td>\n",
       "      <td>0.985749</td>\n",
       "      <td>0.014251</td>\n",
       "    </tr>\n",
       "    <tr>\n",
       "      <td>4</td>\n",
       "      <td>0.978469</td>\n",
       "      <td>0.021531</td>\n",
       "    </tr>\n",
       "    <tr>\n",
       "      <td>...</td>\n",
       "      <td>...</td>\n",
       "      <td>...</td>\n",
       "    </tr>\n",
       "    <tr>\n",
       "      <td>105307</td>\n",
       "      <td>0.018608</td>\n",
       "      <td>0.981392</td>\n",
       "    </tr>\n",
       "    <tr>\n",
       "      <td>105308</td>\n",
       "      <td>0.419533</td>\n",
       "      <td>0.580467</td>\n",
       "    </tr>\n",
       "    <tr>\n",
       "      <td>105309</td>\n",
       "      <td>0.965197</td>\n",
       "      <td>0.034803</td>\n",
       "    </tr>\n",
       "    <tr>\n",
       "      <td>105310</td>\n",
       "      <td>0.843780</td>\n",
       "      <td>0.156220</td>\n",
       "    </tr>\n",
       "    <tr>\n",
       "      <td>105311</td>\n",
       "      <td>0.947690</td>\n",
       "      <td>0.052310</td>\n",
       "    </tr>\n",
       "  </tbody>\n",
       "</table>\n",
       "<p>105312 rows × 2 columns</p>\n",
       "</div>"
      ],
      "text/plain": [
       "        ynot_pred   Is_Lead\n",
       "0        0.982645  0.017355\n",
       "1        0.092630  0.907370\n",
       "2        0.950248  0.049752\n",
       "3        0.985749  0.014251\n",
       "4        0.978469  0.021531\n",
       "...           ...       ...\n",
       "105307   0.018608  0.981392\n",
       "105308   0.419533  0.580467\n",
       "105309   0.965197  0.034803\n",
       "105310   0.843780  0.156220\n",
       "105311   0.947690  0.052310\n",
       "\n",
       "[105312 rows x 2 columns]"
      ]
     },
     "execution_count": 62,
     "metadata": {},
     "output_type": "execute_result"
    }
   ],
   "source": [
    "y_pred1"
   ]
  },
  {
   "cell_type": "code",
   "execution_count": 29,
   "metadata": {},
   "outputs": [
    {
     "name": "stdout",
     "output_type": "stream",
     "text": [
      "\n",
      " Time taken: 0 hours 0 minutes and 2.56 seconds.\n"
     ]
    }
   ],
   "source": [
    "#Random Tuned Classifier on test dataset provided\n",
    "start_time = timer(None) # timing strts here for \"start_time\" variable\n",
    "#random_tuned_classifier.fit(X_train, y_train.ravel())\n",
    "\n",
    "y_pred2 = random_tuned_classifier.predict_proba(dftest1)\n",
    "timer(start_time) # timing ends here for \"start_time\" variable"
   ]
  },
  {
   "cell_type": "code",
   "execution_count": 30,
   "metadata": {},
   "outputs": [
    {
     "data": {
      "text/plain": [
       "array([[0.9771724 , 0.02282764],\n",
       "       [0.06543851, 0.9345615 ],\n",
       "       [0.9613086 , 0.03869139],\n",
       "       ...,\n",
       "       [0.9634198 , 0.03658021],\n",
       "       [0.65298426, 0.3470157 ],\n",
       "       [0.9488822 , 0.05111779]], dtype=float32)"
      ]
     },
     "execution_count": 30,
     "metadata": {},
     "output_type": "execute_result"
    }
   ],
   "source": [
    "y_pred2 #To look at the array"
   ]
  },
  {
   "cell_type": "code",
   "execution_count": 87,
   "metadata": {},
   "outputs": [],
   "source": [
    "#Formatting for the Submission file\n",
    "y_pred2 = pd.DataFrame({'ynot_pred': y_pred2[:, 0], 'Is_Lead': y_pred2[:, 1]})\n",
    "y_out = dftest\n",
    "result = pd.concat([y_out, y_pred2], axis=1)\n",
    "col_name = ['ID','Is_Lead']\n",
    "resultfinal = result[col_name]"
   ]
  },
  {
   "cell_type": "code",
   "execution_count": 88,
   "metadata": {},
   "outputs": [
    {
     "data": {
      "text/html": [
       "<div>\n",
       "<style scoped>\n",
       "    .dataframe tbody tr th:only-of-type {\n",
       "        vertical-align: middle;\n",
       "    }\n",
       "\n",
       "    .dataframe tbody tr th {\n",
       "        vertical-align: top;\n",
       "    }\n",
       "\n",
       "    .dataframe thead th {\n",
       "        text-align: right;\n",
       "    }\n",
       "</style>\n",
       "<table border=\"1\" class=\"dataframe\">\n",
       "  <thead>\n",
       "    <tr style=\"text-align: right;\">\n",
       "      <th></th>\n",
       "      <th>ID</th>\n",
       "      <th>Is_Lead</th>\n",
       "    </tr>\n",
       "  </thead>\n",
       "  <tbody>\n",
       "    <tr>\n",
       "      <td>0</td>\n",
       "      <td>VBENBARO</td>\n",
       "      <td>0.015391</td>\n",
       "    </tr>\n",
       "    <tr>\n",
       "      <td>1</td>\n",
       "      <td>CCMEWNKY</td>\n",
       "      <td>0.908792</td>\n",
       "    </tr>\n",
       "    <tr>\n",
       "      <td>2</td>\n",
       "      <td>VK3KGA9M</td>\n",
       "      <td>0.071794</td>\n",
       "    </tr>\n",
       "    <tr>\n",
       "      <td>3</td>\n",
       "      <td>TT8RPZVC</td>\n",
       "      <td>0.015666</td>\n",
       "    </tr>\n",
       "    <tr>\n",
       "      <td>4</td>\n",
       "      <td>SHQZEYTZ</td>\n",
       "      <td>0.028223</td>\n",
       "    </tr>\n",
       "  </tbody>\n",
       "</table>\n",
       "</div>"
      ],
      "text/plain": [
       "         ID   Is_Lead\n",
       "0  VBENBARO  0.015391\n",
       "1  CCMEWNKY  0.908792\n",
       "2  VK3KGA9M  0.071794\n",
       "3  TT8RPZVC  0.015666\n",
       "4  SHQZEYTZ  0.028223"
      ]
     },
     "execution_count": 88,
     "metadata": {},
     "output_type": "execute_result"
    }
   ],
   "source": [
    "resultfinal.head()"
   ]
  },
  {
   "cell_type": "code",
   "execution_count": 89,
   "metadata": {},
   "outputs": [],
   "source": [
    "#To Save the Output file in the Required Format\n",
    "resultfinal.to_csv('XGBRandtuned_pred4.csv',header=True, index=False)"
   ]
  },
  {
   "cell_type": "markdown",
   "metadata": {},
   "source": [
    "## Conclusion"
   ]
  },
  {
   "cell_type": "markdown",
   "metadata": {},
   "source": [
    "### RandomizedSearchCV always gives different results. I ran this 4 times and 0.87 was the best score I got on the test set.\n",
    "### Randomized Search CV approach of Hyperparameter tuning gave better results but in more time (with 13 parameters distribution). Grid Search CV takes more time and computation power when grid is bigger, so I used only 5 numbers of parameters in parameter grid. Although Randomized Search CV took more time but it covers more parameters."
   ]
  },
  {
   "cell_type": "code",
   "execution_count": 14,
   "metadata": {},
   "outputs": [],
   "source": [
    "#Preprocessing for LGBM\n",
    "\n",
    "X = df.drop(['Is_Lead','ID'],axis=1)\n",
    "y = df['Is_Lead']"
   ]
  },
  {
   "cell_type": "markdown",
   "metadata": {},
   "source": [
    "# LGBM Classifier"
   ]
  },
  {
   "cell_type": "code",
   "execution_count": 8,
   "metadata": {},
   "outputs": [],
   "source": [
    "from sklearn.model_selection import KFold, StratifiedKFold\n",
    "from sklearn.metrics import roc_auc_score\n",
    "\n",
    "def cross_val(X, y, model, params, folds=9):\n",
    "\n",
    "    skf = StratifiedKFold(n_splits=folds, shuffle=True, random_state=21)\n",
    "    for fold, (train_idx, test_idx) in enumerate(skf.split(X, y)):\n",
    "        print(f\"Fold: {fold}\")\n",
    "        x_train, y_train = X.iloc[train_idx], y.iloc[train_idx]\n",
    "        x_test, y_test = X.iloc[test_idx], y.iloc[test_idx]\n",
    "\n",
    "        alg = model(**params)\n",
    "        alg.fit(x_train, y_train,\n",
    "                eval_set=[(x_test, y_test)],\n",
    "                early_stopping_rounds=100,\n",
    "                verbose=400)\n",
    "\n",
    "        pred = alg.predict_proba(x_test)[:, 1]\n",
    "        roc_score = roc_auc_score(y_test, pred)\n",
    "        print(f\"roc_auc_score: {roc_score}\")\n",
    "        print(\"-\"*50)\n",
    "    \n",
    "    return alg"
   ]
  },
  {
   "cell_type": "code",
   "execution_count": 9,
   "metadata": {},
   "outputs": [],
   "source": [
    "lgb_params= {'learning_rate': 0.045, \n",
    "             'n_estimators': 20000, \n",
    "             'max_bin': 94,\n",
    "             'num_leaves': 10, \n",
    "             'max_depth': 27, \n",
    "             'reg_alpha': 8.457, \n",
    "             'reg_lambda': 6.853, \n",
    "             'subsample': 0.749}"
   ]
  },
  {
   "cell_type": "code",
   "execution_count": 15,
   "metadata": {},
   "outputs": [
    {
     "name": "stdout",
     "output_type": "stream",
     "text": [
      "Fold: 0\n",
      "Training until validation scores don't improve for 100 rounds\n",
      "[400]\tvalid_0's binary_logloss: 0.350857\n",
      "Early stopping, best iteration is:\n",
      "[478]\tvalid_0's binary_logloss: 0.350825\n",
      "roc_auc_score: 0.8681763813865001\n",
      "--------------------------------------------------\n",
      "Fold: 1\n",
      "Training until validation scores don't improve for 100 rounds\n",
      "[400]\tvalid_0's binary_logloss: 0.341671\n",
      "[800]\tvalid_0's binary_logloss: 0.341373\n",
      "Early stopping, best iteration is:\n",
      "[929]\tvalid_0's binary_logloss: 0.341327\n",
      "roc_auc_score: 0.8769880198281528\n",
      "--------------------------------------------------\n",
      "Fold: 2\n",
      "Training until validation scores don't improve for 100 rounds\n",
      "[400]\tvalid_0's binary_logloss: 0.340794\n",
      "Early stopping, best iteration is:\n",
      "[536]\tvalid_0's binary_logloss: 0.340667\n",
      "roc_auc_score: 0.8756336924109042\n",
      "--------------------------------------------------\n",
      "Fold: 3\n",
      "Training until validation scores don't improve for 100 rounds\n",
      "[400]\tvalid_0's binary_logloss: 0.343288\n",
      "Early stopping, best iteration is:\n",
      "[576]\tvalid_0's binary_logloss: 0.343131\n",
      "roc_auc_score: 0.8737011991444703\n",
      "--------------------------------------------------\n",
      "Fold: 4\n",
      "Training until validation scores don't improve for 100 rounds\n",
      "[400]\tvalid_0's binary_logloss: 0.344649\n",
      "[800]\tvalid_0's binary_logloss: 0.344541\n",
      "Early stopping, best iteration is:\n",
      "[742]\tvalid_0's binary_logloss: 0.344511\n",
      "roc_auc_score: 0.8725735004119844\n",
      "--------------------------------------------------\n",
      "Fold: 5\n",
      "Training until validation scores don't improve for 100 rounds\n",
      "[400]\tvalid_0's binary_logloss: 0.341216\n",
      "Early stopping, best iteration is:\n",
      "[626]\tvalid_0's binary_logloss: 0.34108\n",
      "roc_auc_score: 0.8749810890814667\n",
      "--------------------------------------------------\n",
      "Fold: 6\n",
      "Training until validation scores don't improve for 100 rounds\n",
      "[400]\tvalid_0's binary_logloss: 0.337846\n",
      "Early stopping, best iteration is:\n",
      "[674]\tvalid_0's binary_logloss: 0.337615\n",
      "roc_auc_score: 0.8780763997549743\n",
      "--------------------------------------------------\n",
      "Fold: 7\n",
      "Training until validation scores don't improve for 100 rounds\n",
      "[400]\tvalid_0's binary_logloss: 0.346757\n",
      "[800]\tvalid_0's binary_logloss: 0.346407\n",
      "Early stopping, best iteration is:\n",
      "[798]\tvalid_0's binary_logloss: 0.346405\n",
      "roc_auc_score: 0.8737801845842077\n",
      "--------------------------------------------------\n",
      "Fold: 8\n",
      "Training until validation scores don't improve for 100 rounds\n",
      "[400]\tvalid_0's binary_logloss: 0.3473\n",
      "Early stopping, best iteration is:\n",
      "[411]\tvalid_0's binary_logloss: 0.347275\n",
      "roc_auc_score: 0.8729828563644519\n",
      "--------------------------------------------------\n",
      "\n",
      " Time taken: 0 hours 0 minutes and 36.85 seconds.\n"
     ]
    }
   ],
   "source": [
    "from lightgbm import LGBMClassifier\n",
    "from datetime import datetime\n",
    "start_time = timer(None) # timing strts here for \"start_time\" variable\n",
    "lgb_model = cross_val(X, y, LGBMClassifier, lgb_params)\n",
    "timer(start_time) # timing ends here for \"start_time\" variable"
   ]
  },
  {
   "cell_type": "code",
   "execution_count": 33,
   "metadata": {},
   "outputs": [],
   "source": [
    "#pred_test_lgb = lgb_model.predict_proba(test)[:,1]\n",
    "dftest1 = dftest.drop(['ID'],axis=1)\n",
    "y_predlgb = lgb_model.predict_proba(dftest1)\n"
   ]
  },
  {
   "cell_type": "code",
   "execution_count": 34,
   "metadata": {},
   "outputs": [
    {
     "data": {
      "text/plain": [
       "array([[0.94654807, 0.05345193],\n",
       "       [0.14228889, 0.85771111],\n",
       "       [0.94379707, 0.05620293],\n",
       "       ...,\n",
       "       [0.93021853, 0.06978147],\n",
       "       [0.77112968, 0.22887032],\n",
       "       [0.94536113, 0.05463887]])"
      ]
     },
     "execution_count": 34,
     "metadata": {},
     "output_type": "execute_result"
    }
   ],
   "source": [
    "y_predlgb"
   ]
  },
  {
   "cell_type": "code",
   "execution_count": 18,
   "metadata": {},
   "outputs": [],
   "source": [
    "#Saving the Model\n",
    "import pickle\n",
    "lgbc = lgb_model\n",
    "pickle.dump(lgbc,open('lgbcmodel1','wb'))"
   ]
  },
  {
   "cell_type": "code",
   "execution_count": 19,
   "metadata": {},
   "outputs": [],
   "source": [
    "#Formatting for the Submission file\n",
    "y_predlgb = pd.DataFrame({'ynot_pred': y_predlgb[:, 0], 'Is_Lead': y_predlgb[:, 1]})\n",
    "y_out = dftest\n",
    "result = pd.concat([y_out, y_predlgb], axis=1)\n",
    "col_name = ['ID','Is_Lead']\n",
    "resultfinal = result[col_name]\n",
    "#To Save the Output file in the Required Format\n",
    "resultfinal.to_csv('LGB_pred.csv',header=True, index=False)"
   ]
  },
  {
   "cell_type": "markdown",
   "metadata": {},
   "source": [
    "# Ensemble XGB & LGBM Results"
   ]
  },
  {
   "cell_type": "code",
   "execution_count": 42,
   "metadata": {},
   "outputs": [],
   "source": [
    "lgbnp = 0.90*y_predlgb\n",
    "xgbrand = 0.10*y_pred2\n",
    "\n",
    "submission = lgbnp + xgbrand"
   ]
  },
  {
   "cell_type": "code",
   "execution_count": 43,
   "metadata": {},
   "outputs": [],
   "source": [
    "#Formatting for the Submission file\n",
    "submission = pd.DataFrame({'ynot_pred': submission[:, 0], 'Is_Lead': submission[:, 1]})\n",
    "y_out = dftest\n",
    "result = pd.concat([y_out, submission], axis=1)\n",
    "col_name = ['ID','Is_Lead']\n",
    "resultfinal = result[col_name]\n",
    "#To Save the Output file in the Required Format\n",
    "resultfinal.to_csv('LGBXGB_predv4.csv',header=True, index=False)"
   ]
  },
  {
   "cell_type": "markdown",
   "metadata": {},
   "source": [
    "### EOF - Bhooshan Gore (Business Analyst - ANAROCK PROPERTY CONSULTANTS)\n",
    "<h4 id=\"https://bhooshangore.github.io/\">https://bhooshangore.github.io/</h3>"
   ]
  },
  {
   "cell_type": "code",
   "execution_count": null,
   "metadata": {},
   "outputs": [],
   "source": []
  }
 ],
 "metadata": {
  "kernelspec": {
   "display_name": "Python 3",
   "language": "python",
   "name": "python3"
  },
  "language_info": {
   "codemirror_mode": {
    "name": "ipython",
    "version": 3
   },
   "file_extension": ".py",
   "mimetype": "text/x-python",
   "name": "python",
   "nbconvert_exporter": "python",
   "pygments_lexer": "ipython3",
   "version": "3.6.9"
  }
 },
 "nbformat": 4,
 "nbformat_minor": 2
}
